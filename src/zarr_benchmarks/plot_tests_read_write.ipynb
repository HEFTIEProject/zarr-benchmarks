{
 "cells": [
  {
   "cell_type": "code",
   "execution_count": null,
   "id": "0",
   "metadata": {},
   "outputs": [],
   "source": [
    "import seaborn as sns\n",
    "\n",
    "from zarr_benchmarks.parse_json_for_plots import get_benchmarks_dataframe"
   ]
  },
  {
   "cell_type": "code",
   "execution_count": null,
   "id": "1",
   "metadata": {},
   "outputs": [],
   "source": [
    "package_paths_dict = {\n",
    "    \"zarr_python_2\": \"../../data/json/full_test_run_2/0005_zarr-python-v2.json\",\n",
    "    \"zarr_python_3\": \"../../data/json/full_test_run_2/0006_zarr-python-v3.json\",\n",
    "    \"tensorstore\": \"../../data/json/full_test_run_2/0007_tensorstore.json\",\n",
    "}\n",
    "\n",
    "benchmarks_df = get_benchmarks_dataframe(package_paths_dict)"
   ]
  },
  {
   "cell_type": "code",
   "execution_count": null,
   "id": "2",
   "metadata": {},
   "outputs": [],
   "source": [
    "benchmarks_df.head()"
   ]
  },
  {
   "cell_type": "code",
   "execution_count": null,
   "id": "3",
   "metadata": {},
   "outputs": [],
   "source": [
    "read_write_benchmarks = benchmarks_df[\n",
    "    benchmarks_df.chunk_size.isin([64, 128])\n",
    "    & (~benchmarks_df.blosc_shuffle.isin([\"bitshuffle\", \"noshuffle\"]))\n",
    "]"
   ]
  },
  {
   "cell_type": "code",
   "execution_count": null,
   "id": "4",
   "metadata": {},
   "outputs": [],
   "source": [
    "read_write_benchmarks.head()"
   ]
  },
  {
   "cell_type": "markdown",
   "id": "5",
   "metadata": {},
   "source": [
    "# Zarr-python v2 (read-write)"
   ]
  },
  {
   "cell_type": "code",
   "execution_count": null,
   "id": "6",
   "metadata": {},
   "outputs": [],
   "source": [
    "benchmarks_zarr_v2 = read_write_benchmarks[\n",
    "    read_write_benchmarks.package == \"zarr_python_2\"\n",
    "]\n",
    "write_zarr_v2 = benchmarks_zarr_v2[benchmarks_zarr_v2.group == \"write\"]\n",
    "read_zarr_v2 = benchmarks_zarr_v2[benchmarks_zarr_v2.group == \"read\"]"
   ]
  },
  {
   "cell_type": "code",
   "execution_count": null,
   "id": "7",
   "metadata": {},
   "outputs": [],
   "source": [
    "write_zarr_v2_chunks_128 = write_zarr_v2[write_zarr_v2.chunk_size == 128]\n",
    "read_zarr_v2_chunks_128 = read_zarr_v2[read_zarr_v2.chunk_size == 128]"
   ]
  },
  {
   "cell_type": "code",
   "execution_count": null,
   "id": "8",
   "metadata": {},
   "outputs": [],
   "source": [
    "# As compression ratio increases, so does mean write time\n",
    "graph = sns.relplot(\n",
    "    data=write_zarr_v2_chunks_128,\n",
    "    x=\"stats.mean\",\n",
    "    y=\"compression_ratio\",\n",
    "    hue=\"compressor\",\n",
    "    style=\"compressor\",\n",
    "    size=\"compression_level\",\n",
    "    height=4,\n",
    "    aspect=1.5,\n",
    ")\n",
    "graph.set_axis_labels(\"Mean write time (s)\", \"Compression ratio\")"
   ]
  },
  {
   "cell_type": "code",
   "execution_count": null,
   "id": "9",
   "metadata": {},
   "outputs": [],
   "source": [
    "# As compression ratio increases, so does mean write time (LOG SCALE)\n",
    "graph = sns.relplot(\n",
    "    data=write_zarr_v2_chunks_128,\n",
    "    x=\"stats.mean\",\n",
    "    y=\"compression_ratio\",\n",
    "    hue=\"compressor\",\n",
    "    style=\"compressor\",\n",
    "    size=\"compression_level\",\n",
    "    height=4,\n",
    "    aspect=1.5,\n",
    ")\n",
    "graph.set(xscale=\"log\")\n",
    "graph.set_axis_labels(\"Mean write time (s)\", \"Compression ratio\")"
   ]
  },
  {
   "cell_type": "code",
   "execution_count": null,
   "id": "10",
   "metadata": {},
   "outputs": [],
   "source": [
    "# Blosc only with xlim to see left\n",
    "blosc_only_write = write_zarr_v2_chunks_128[\n",
    "    ~write_zarr_v2_chunks_128.compressor.isin([\"gzip\", \"zstd\"])\n",
    "]\n",
    "graph = sns.relplot(\n",
    "    data=blosc_only_write,\n",
    "    x=\"stats.mean\",\n",
    "    y=\"compression_ratio\",\n",
    "    hue=\"compressor\",\n",
    "    style=\"compressor\",\n",
    "    size=\"compression_level\",\n",
    "    height=4,\n",
    "    aspect=1.5,\n",
    "    facet_kws=dict(xlim=(0, 5)),\n",
    ")\n",
    "graph.set_axis_labels(\"Mean write time (s)\", \"Compression ratio\")"
   ]
  },
  {
   "cell_type": "code",
   "execution_count": null,
   "id": "11",
   "metadata": {},
   "outputs": [],
   "source": [
    "# read time doesn't vary greatly depending on compression ratio; but does vary significantly between compressors\n",
    "graph = sns.relplot(\n",
    "    data=read_zarr_v2_chunks_128,\n",
    "    x=\"stats.mean\",\n",
    "    y=\"compression_ratio\",\n",
    "    hue=\"compressor\",\n",
    "    style=\"compressor\",\n",
    "    size=\"compression_level\",\n",
    "    height=4,\n",
    "    aspect=1.5,\n",
    ")\n",
    "graph.set_axis_labels(\"Mean read time (s)\", \"Compression ratio\")"
   ]
  },
  {
   "cell_type": "code",
   "execution_count": null,
   "id": "12",
   "metadata": {},
   "outputs": [],
   "source": [
    "# read time doesn't vary greatly depending on compression ratio; but does vary significantly between compressors\n",
    "graph = sns.relplot(\n",
    "    data=read_zarr_v2_chunks_128,\n",
    "    x=\"stats.mean\",\n",
    "    y=\"compression_ratio\",\n",
    "    hue=\"compressor\",\n",
    "    style=\"compressor\",\n",
    "    size=\"compression_level\",\n",
    "    height=4,\n",
    "    aspect=1.5,\n",
    ")\n",
    "graph.set(xscale=\"log\")\n",
    "graph.set_axis_labels(\"Mean read time (s)\", \"Compression ratio\")"
   ]
  },
  {
   "cell_type": "code",
   "execution_count": null,
   "id": "13",
   "metadata": {},
   "outputs": [],
   "source": [
    "# Blosc only reads\n",
    "blosc_only_read = read_zarr_v2_chunks_128[\n",
    "    ~read_zarr_v2_chunks_128.compressor.isin([\"gzip\", \"zstd\"])\n",
    "]\n",
    "graph = sns.relplot(\n",
    "    data=blosc_only_read,\n",
    "    x=\"stats.mean\",\n",
    "    y=\"compression_ratio\",\n",
    "    hue=\"compressor\",\n",
    "    style=\"compressor\",\n",
    "    size=\"compression_level\",\n",
    "    height=4,\n",
    "    aspect=1.5,\n",
    ")\n",
    "graph.set_axis_labels(\"Mean read time (s)\", \"Compression ratio\")"
   ]
  },
  {
   "cell_type": "code",
   "execution_count": null,
   "id": "14",
   "metadata": {},
   "outputs": [],
   "source": [
    "# higher compression level = higher compression ratio\n",
    "graph = sns.relplot(\n",
    "    data=write_zarr_v2_chunks_128,\n",
    "    x=\"compression_level\",\n",
    "    y=\"compression_ratio\",\n",
    "    col=\"compressor\",\n",
    "    hue=\"compressor\",\n",
    "    facet_kws=dict(sharex=False),\n",
    "    col_wrap=3,\n",
    ")\n",
    "graph.set_axis_labels(\"Compression level\", \"Compression ratio\")"
   ]
  },
  {
   "cell_type": "code",
   "execution_count": null,
   "id": "15",
   "metadata": {},
   "outputs": [],
   "source": [
    "# higher compression ratio = larger write time\n",
    "graph = sns.relplot(\n",
    "    data=write_zarr_v2_chunks_128,\n",
    "    x=\"compression_level\",\n",
    "    y=\"stats.mean\",\n",
    "    col=\"compressor\",\n",
    "    hue=\"compressor\",\n",
    "    facet_kws=dict(sharex=False, sharey=False),\n",
    "    col_wrap=3,\n",
    ")\n",
    "graph.set_axis_labels(\"Compression level\", \"Mean write time (s)\")"
   ]
  },
  {
   "cell_type": "code",
   "execution_count": null,
   "id": "16",
   "metadata": {},
   "outputs": [],
   "source": [
    "# higher compression level, doesn't always mean higher read time (but maybe for some compressors? Would need more points...)\n",
    "graph = sns.relplot(\n",
    "    data=read_zarr_v2_chunks_128,\n",
    "    x=\"compression_level\",\n",
    "    y=\"stats.mean\",\n",
    "    col=\"compressor\",\n",
    "    hue=\"compressor\",\n",
    "    facet_kws=dict(sharex=False, sharey=False),\n",
    "    col_wrap=3,\n",
    ")\n",
    "graph.set_axis_labels(\"Compression level\", \"Mean read time (s)\")"
   ]
  },
  {
   "cell_type": "code",
   "execution_count": null,
   "id": "17",
   "metadata": {},
   "outputs": [],
   "source": [
    "# Higher write time for higher compression ratios (regardless of chunk size)\n",
    "graph = sns.relplot(\n",
    "    data=write_zarr_v2,\n",
    "    x=\"stats.mean\",\n",
    "    y=\"compression_ratio\",\n",
    "    hue=\"compressor\",\n",
    "    style=\"compressor\",\n",
    "    size=\"compression_level\",\n",
    "    col=\"chunk_size\",\n",
    "    height=4,\n",
    "    aspect=1.2,\n",
    ")\n",
    "graph.set_axis_labels(\"Mean write time (s)\", \"Compression ratio\")"
   ]
  },
  {
   "cell_type": "code",
   "execution_count": null,
   "id": "18",
   "metadata": {},
   "outputs": [],
   "source": [
    "graph = sns.relplot(\n",
    "    data=read_zarr_v2,\n",
    "    x=\"stats.mean\",\n",
    "    y=\"compression_ratio\",\n",
    "    hue=\"compressor\",\n",
    "    style=\"compressor\",\n",
    "    size=\"compression_level\",\n",
    "    col=\"chunk_size\",\n",
    "    height=4,\n",
    "    aspect=1.2,\n",
    ")\n",
    "graph.set_axis_labels(\"Mean read time (s)\", \"Compression ratio\")"
   ]
  },
  {
   "cell_type": "code",
   "execution_count": null,
   "id": "19",
   "metadata": {},
   "outputs": [],
   "source": [
    "# Keeping compression level the same, larger chunks sizes compress worse (WE'D NEED TO DO AT LEAST ONE MORE CHUNK SIZE FOR THIS GRAPH TO WORK)\n",
    "# for compressor in read_zarr_v2.compressor.unique():\n",
    "#     compressor_reads = read_zarr_v2[read_zarr_v2.compressor == compressor]\n",
    "#     graph = sns.relplot(\n",
    "#         data=compressor_reads,\n",
    "#         x=\"chunk_size\",\n",
    "#         y=\"compression_ratio\",\n",
    "#         hue=\"compressor\",\n",
    "#         style=\"compressor\",\n",
    "#         col=\"compression_level\",\n",
    "#         height=4,\n",
    "#         aspect=1.2,\n",
    "#         col_wrap=3\n",
    "#     )\n",
    "#     graph.set_axis_labels(\"Chunk size\", \"Compression ratio\")"
   ]
  },
  {
   "cell_type": "code",
   "execution_count": null,
   "id": "20",
   "metadata": {},
   "outputs": [],
   "source": [
    "benchmarks_df.columns"
   ]
  },
  {
   "cell_type": "markdown",
   "id": "21",
   "metadata": {},
   "source": [
    "# Comparison between python packages"
   ]
  },
  {
   "cell_type": "code",
   "execution_count": null,
   "id": "22",
   "metadata": {},
   "outputs": [],
   "source": [
    "write_benchmarks = read_write_benchmarks[read_write_benchmarks.group == \"write\"]\n",
    "read_benchmarks = read_write_benchmarks[read_write_benchmarks.group == \"read\"]\n",
    "write_chunks_128 = write_benchmarks[write_benchmarks.chunk_size == 128]\n",
    "read_chunks_128 = read_benchmarks[read_benchmarks.chunk_size == 128]"
   ]
  },
  {
   "cell_type": "code",
   "execution_count": null,
   "id": "23",
   "metadata": {},
   "outputs": [],
   "source": [
    "write_chunks_128.head()"
   ]
  },
  {
   "cell_type": "code",
   "execution_count": null,
   "id": "24",
   "metadata": {},
   "outputs": [],
   "source": [
    "# zarr python v3 and tensorstore, seem quite a bit faster than zarr python v2 for zstd/gzip\n",
    "graph = sns.relplot(\n",
    "    data=write_chunks_128,\n",
    "    x=\"stats.mean\",\n",
    "    y=\"compression_ratio\",\n",
    "    hue=\"compressor\",\n",
    "    style=\"compressor\",\n",
    "    size=\"compression_level\",\n",
    "    col=\"package\",\n",
    "    height=4,\n",
    "    aspect=1.2,\n",
    ")\n",
    "graph.set_axis_labels(\"Mean write time (s)\", \"Compression ratio\")"
   ]
  },
  {
   "cell_type": "code",
   "execution_count": null,
   "id": "25",
   "metadata": {},
   "outputs": [],
   "source": [
    "# zarr python v3 and tensorstore, seem quite a bit faster than zarr python v2\n",
    "for compressor in write_chunks_128.compressor.unique():\n",
    "    compressor_writes = write_chunks_128[write_chunks_128.compressor == compressor]\n",
    "    graph = sns.relplot(\n",
    "        data=compressor_writes,\n",
    "        x=\"stats.mean\",\n",
    "        y=\"compression_ratio\",\n",
    "        hue=\"package\",\n",
    "        style=\"package\",\n",
    "        size=\"compression_level\",\n",
    "        height=4,\n",
    "        aspect=1.2,\n",
    "    )\n",
    "    graph.set_axis_labels(\"Mean write time (s)\", \"Compression ratio\")\n",
    "    graph.fig.suptitle(compressor)\n",
    "    graph.fig.subplots_adjust(top=0.9)"
   ]
  },
  {
   "cell_type": "code",
   "execution_count": null,
   "id": "26",
   "metadata": {},
   "outputs": [],
   "source": [
    "# Tensorstore is winning for read times!\n",
    "graph = sns.relplot(\n",
    "    data=read_chunks_128,\n",
    "    x=\"stats.mean\",\n",
    "    y=\"compression_ratio\",\n",
    "    hue=\"compressor\",\n",
    "    style=\"compressor\",\n",
    "    size=\"compression_level\",\n",
    "    col=\"package\",\n",
    "    height=4,\n",
    "    aspect=1.2,\n",
    ")\n",
    "graph.set_axis_labels(\"Mean read time (s)\", \"Compression ratio\")"
   ]
  },
  {
   "cell_type": "code",
   "execution_count": null,
   "id": "27",
   "metadata": {},
   "outputs": [],
   "source": [
    "# zarr python v3 and tensorstore, seem quite a bit faster than zarr python v2\n",
    "for compressor in read_chunks_128.compressor.unique():\n",
    "    compressor_reads = read_chunks_128[read_chunks_128.compressor == compressor]\n",
    "    graph = sns.relplot(\n",
    "        data=compressor_reads,\n",
    "        x=\"stats.mean\",\n",
    "        y=\"compression_ratio\",\n",
    "        hue=\"package\",\n",
    "        style=\"package\",\n",
    "        size=\"compression_level\",\n",
    "        height=4,\n",
    "        aspect=1.2,\n",
    "    )\n",
    "    graph.set_axis_labels(\"Mean read time (s)\", \"Compression ratio\")\n",
    "    graph.fig.suptitle(compressor)\n",
    "    graph.fig.subplots_adjust(top=0.9)"
   ]
  },
  {
   "cell_type": "code",
   "execution_count": null,
   "id": "28",
   "metadata": {},
   "outputs": [],
   "source": []
  }
 ],
 "metadata": {
  "kernelspec": {
   "display_name": "Python 3 (ipykernel)",
   "language": "python",
   "name": "python3"
  },
  "language_info": {
   "codemirror_mode": {
    "name": "ipython",
    "version": 3
   },
   "file_extension": ".py",
   "mimetype": "text/x-python",
   "name": "python",
   "nbconvert_exporter": "python",
   "pygments_lexer": "ipython3",
   "version": "3.13.3"
  }
 },
 "nbformat": 4,
 "nbformat_minor": 5
}
