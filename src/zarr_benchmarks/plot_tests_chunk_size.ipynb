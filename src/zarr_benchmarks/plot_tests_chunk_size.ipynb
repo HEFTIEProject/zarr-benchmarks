{
 "cells": [
  {
   "cell_type": "code",
   "execution_count": null,
   "id": "0",
   "metadata": {},
   "outputs": [],
   "source": [
    "import seaborn as sns\n",
    "\n",
    "from zarr_benchmarks.parse_json_for_plots import get_benchmarks_dataframe"
   ]
  },
  {
   "cell_type": "code",
   "execution_count": null,
   "id": "1",
   "metadata": {},
   "outputs": [],
   "source": [
    "package_paths_dict = {\n",
    "    \"zarr_python_2\": \"../../data/json/full_test_run_1/0002_zarr-python-v2.json\",\n",
    "    \"zarr_python_3\": \"../../data/json/full_test_run_1/0003_zarr-python-v3.json\",\n",
    "    \"tensorstore\": \"../../data/json/full_test_run_1/0004_tensorstore.json\",\n",
    "}\n",
    "\n",
    "benchmarks_df = get_benchmarks_dataframe(package_paths_dict)"
   ]
  },
  {
   "cell_type": "code",
   "execution_count": null,
   "id": "2",
   "metadata": {},
   "outputs": [],
   "source": [
    "benchmarks_df.head()"
   ]
  },
  {
   "cell_type": "code",
   "execution_count": null,
   "id": "3",
   "metadata": {},
   "outputs": [],
   "source": [
    "chunk_benchmarks = benchmarks_df[\n",
    "    (benchmarks_df.blosc_shuffle == \"shuffle\")\n",
    "    & (benchmarks_df.compressor == \"blosc-zstd\")\n",
    "    & (benchmarks_df.compression_level == 3)\n",
    "]"
   ]
  },
  {
   "cell_type": "code",
   "execution_count": null,
   "id": "4",
   "metadata": {},
   "outputs": [],
   "source": [
    "chunk_benchmarks.head()"
   ]
  },
  {
   "cell_type": "markdown",
   "id": "5",
   "metadata": {},
   "source": [
    "# chunk size"
   ]
  },
  {
   "cell_type": "code",
   "execution_count": null,
   "id": "6",
   "metadata": {},
   "outputs": [],
   "source": [
    "read_benchmarks = chunk_benchmarks[chunk_benchmarks.group == \"read\"]\n",
    "write_benchmarks = chunk_benchmarks[chunk_benchmarks.group == \"write\"]"
   ]
  },
  {
   "cell_type": "code",
   "execution_count": null,
   "id": "7",
   "metadata": {},
   "outputs": [],
   "source": [
    "# Larger chunk sizes compress worst (don't see expected jumps at 64/128?)\n",
    "graph = sns.relplot(\n",
    "    data=read_benchmarks,\n",
    "    x=\"chunk_size\",\n",
    "    y=\"compression_ratio\",\n",
    "    col=\"package\",\n",
    "    height=4,\n",
    "    aspect=1.5,\n",
    ")\n",
    "graph.set_axis_labels(\"Chunk size\", \"Compression ratio\")"
   ]
  },
  {
   "cell_type": "code",
   "execution_count": null,
   "id": "8",
   "metadata": {},
   "outputs": [],
   "source": [
    "read_benchmarks.columns"
   ]
  },
  {
   "cell_type": "code",
   "execution_count": null,
   "id": "9",
   "metadata": {},
   "outputs": [],
   "source": [
    "# Larger chunk sizes tend to read faster + tensorstore is the fastest\n",
    "graph = sns.relplot(\n",
    "    data=read_benchmarks,\n",
    "    x=\"chunk_size\",\n",
    "    y=\"stats.mean\",\n",
    "    hue=\"package\",\n",
    "    height=4,\n",
    "    aspect=1.5,\n",
    ")\n",
    "graph.set_axis_labels(\"Chunk size\", \"Read time\")"
   ]
  },
  {
   "cell_type": "code",
   "execution_count": null,
   "id": "10",
   "metadata": {},
   "outputs": [],
   "source": [
    "# Larger chunk sizes tend to write faster\n",
    "graph = sns.relplot(\n",
    "    data=write_benchmarks,\n",
    "    x=\"chunk_size\",\n",
    "    y=\"stats.mean\",\n",
    "    hue=\"package\",\n",
    "    height=4,\n",
    "    aspect=1.5,\n",
    ")\n",
    "graph.set_axis_labels(\"Chunk size\", \"Write time\")"
   ]
  },
  {
   "cell_type": "code",
   "execution_count": null,
   "id": "11",
   "metadata": {},
   "outputs": [],
   "source": []
  },
  {
   "cell_type": "code",
   "execution_count": null,
   "id": "12",
   "metadata": {},
   "outputs": [],
   "source": []
  }
 ],
 "metadata": {
  "kernelspec": {
   "display_name": "Python 3 (ipykernel)",
   "language": "python",
   "name": "python3"
  },
  "language_info": {
   "codemirror_mode": {
    "name": "ipython",
    "version": 3
   },
   "file_extension": ".py",
   "mimetype": "text/x-python",
   "name": "python",
   "nbconvert_exporter": "python",
   "pygments_lexer": "ipython3",
   "version": "3.13.3"
  }
 },
 "nbformat": 4,
 "nbformat_minor": 5
}
