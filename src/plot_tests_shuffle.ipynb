{
 "cells": [
  {
   "cell_type": "code",
   "execution_count": null,
   "id": "0",
   "metadata": {},
   "outputs": [],
   "source": [
    "import seaborn as sns\n",
    "from rough_plots import get_benchmarks_dataframe"
   ]
  },
  {
   "cell_type": "code",
   "execution_count": null,
   "id": "1",
   "metadata": {},
   "outputs": [],
   "source": [
    "zarr_v2_path = \"../data/json/full_test_run_1/0002_zarr-python-v2.json\"\n",
    "zarr_v3_path = \"../data/json/full_test_run_1/0003_zarr-python-v3.json\"\n",
    "tensorstore_path = \"../data/json/full_test_run_1/0004_tensorstore.json\"\n",
    "\n",
    "benchmarks_df = get_benchmarks_dataframe(\n",
    "    (zarr_v2_path, zarr_v3_path, tensorstore_path),\n",
    "    package_ids=(\"zarr_python_2\", \"zarr_python_3\", \"tensorstore\"),\n",
    ")"
   ]
  },
  {
   "cell_type": "code",
   "execution_count": null,
   "id": "2",
   "metadata": {},
   "outputs": [],
   "source": [
    "benchmarks_df.head()"
   ]
  },
  {
   "cell_type": "code",
   "execution_count": null,
   "id": "3",
   "metadata": {},
   "outputs": [],
   "source": [
    "shuffle_benchmarks = benchmarks_df[(benchmarks_df.compressor == \"blosc-zstd\") & (benchmarks_df.compression_level == 3) & (benchmarks_df.chunk_size == 128)]"
   ]
  },
  {
   "cell_type": "code",
   "execution_count": null,
   "id": "4",
   "metadata": {},
   "outputs": [],
   "source": [
    "shuffle_benchmarks"
   ]
  },
  {
   "cell_type": "markdown",
   "id": "5",
   "metadata": {},
   "source": [
    "# Shuffle"
   ]
  },
  {
   "cell_type": "code",
   "execution_count": null,
   "id": "6",
   "metadata": {},
   "outputs": [],
   "source": [
    "read_benchmarks = shuffle_benchmarks[shuffle_benchmarks.group == \"read\"]\n",
    "write_benchmarks = shuffle_benchmarks[shuffle_benchmarks.group == \"write\"]"
   ]
  },
  {
   "cell_type": "code",
   "execution_count": null,
   "id": "7",
   "metadata": {},
   "outputs": [],
   "source": [
    "# Shuffle is best for compression ratio\n",
    "graph = sns.relplot(\n",
    "    data=read_benchmarks,\n",
    "    x=\"blosc_shuffle\",\n",
    "    y=\"compression_ratio\",\n",
    "    col=\"package\",\n",
    "    height=4,\n",
    "    aspect=1.5,\n",
    ")\n",
    "graph.set_axis_labels(\"Shuffle\", \"Compression ratio\")"
   ]
  },
  {
   "cell_type": "code",
   "execution_count": null,
   "id": "8",
   "metadata": {},
   "outputs": [],
   "source": [
    "# Shuffle is best for read time (comparable to bitshuffle)\n",
    "graph = sns.relplot(\n",
    "    data=read_benchmarks,\n",
    "    x=\"blosc_shuffle\",\n",
    "    y=\"stats.mean\",\n",
    "    hue=\"package\",\n",
    "    height=4,\n",
    "    aspect=1.5,\n",
    ")\n",
    "graph.set_axis_labels(\"Shuffle\", \"Read time\")"
   ]
  },
  {
   "cell_type": "code",
   "execution_count": null,
   "id": "9",
   "metadata": {},
   "outputs": [],
   "source": [
    "# Shuffle is faster than noshuffle, slower than bitshuffle (but not by much)\n",
    "graph = sns.relplot(\n",
    "    data=write_benchmarks,\n",
    "    x=\"blosc_shuffle\",\n",
    "    y=\"stats.mean\",\n",
    "    hue=\"package\",\n",
    "    height=4,\n",
    "    aspect=1.5,\n",
    ")\n",
    "graph.set_axis_labels(\"Shuffle\", \"Write time\")"
   ]
  },
  {
   "cell_type": "code",
   "execution_count": null,
   "id": "10",
   "metadata": {},
   "outputs": [],
   "source": []
  }
 ],
 "metadata": {
  "kernelspec": {
   "display_name": "Python 3 (ipykernel)",
   "language": "python",
   "name": "python3"
  },
  "language_info": {
   "codemirror_mode": {
    "name": "ipython",
    "version": 3
   },
   "file_extension": ".py",
   "mimetype": "text/x-python",
   "name": "python",
   "nbconvert_exporter": "python",
   "pygments_lexer": "ipython3",
   "version": "3.13.3"
  }
 },
 "nbformat": 4,
 "nbformat_minor": 5
}
